{
 "cells": [
  {
   "cell_type": "code",
   "execution_count": 2,
   "id": "5984e169",
   "metadata": {},
   "outputs": [],
   "source": [
    "#math and statistics.\n",
    "from scipy import stats\n",
    "import statistics\n",
    "import math\n",
    "\n",
    "#impot matplot and seaborn for viz.\n",
    "import matplotlib.pyplot as plt\n",
    "import seaborn as sns\n",
    "\n",
    "#numpy and pandas library\n",
    "import numpy as np\n",
    "import pandas as pd\n",
    "\n",
    "#dataset library\n",
    "from pydataset import data\n",
    "import env\n",
    "import acquire\n",
    "\n",
    "\n",
    "import warnings \n",
    "warnings.filterwarnings(\"ignore\")\n",
    "\n",
    "from sklearn.tree import DecisionTreeClassifier, plot_tree, export_text\n",
    "from sklearn.model_selection import train_test_split\n",
    "from sklearn.metrics import classification_report\n",
    "from sklearn.metrics import confusion_matrix"
   ]
  },
  {
   "cell_type": "markdown",
   "id": "74d2135a",
   "metadata": {},
   "source": [
    "## 1.classifier to your training sample and transform (i.e. make predictions on the training sample)"
   ]
  },
  {
   "cell_type": "code",
   "execution_count": 3,
   "id": "13a870a4",
   "metadata": {},
   "outputs": [
    {
     "name": "stdout",
     "output_type": "stream",
     "text": [
      "Using cached csv\n"
     ]
    }
   ],
   "source": [
    "df = acquire.get_titanic_data()"
   ]
  },
  {
   "cell_type": "code",
   "execution_count": 4,
   "id": "2c79e671",
   "metadata": {},
   "outputs": [],
   "source": [
    "df = df.drop(columns = ['passenger_id','deck','embarked','class'])"
   ]
  },
  {
   "cell_type": "code",
   "execution_count": 5,
   "id": "684fa87e",
   "metadata": {},
   "outputs": [],
   "source": [
    "df['sex'] = df['sex'].replace([\"male\",'female'], [0,1])"
   ]
  },
  {
   "cell_type": "code",
   "execution_count": 6,
   "id": "866f421c",
   "metadata": {},
   "outputs": [],
   "source": [
    "df.age = df.age.fillna(value=df.age.median())"
   ]
  },
  {
   "cell_type": "code",
   "execution_count": 7,
   "id": "11d77d71",
   "metadata": {},
   "outputs": [
    {
     "name": "stdout",
     "output_type": "stream",
     "text": [
      "<class 'pandas.core.frame.DataFrame'>\n",
      "RangeIndex: 891 entries, 0 to 890\n",
      "Data columns (total 5 columns):\n",
      " #   Column  Non-Null Count  Dtype  \n",
      "---  ------  --------------  -----  \n",
      " 0   pclass  891 non-null    int64  \n",
      " 1   age     891 non-null    float64\n",
      " 2   sibsp   891 non-null    int64  \n",
      " 3   parch   891 non-null    int64  \n",
      " 4   fare    891 non-null    float64\n",
      "dtypes: float64(2), int64(3)\n",
      "memory usage: 34.9 KB\n"
     ]
    }
   ],
   "source": [
    "X = df[['pclass', 'age', 'sibsp', 'parch', 'fare']]\n",
    "y = df.survived\n",
    "\n",
    "X.info()"
   ]
  },
  {
   "cell_type": "code",
   "execution_count": 8,
   "id": "fea7f8d3",
   "metadata": {},
   "outputs": [],
   "source": [
    "\n",
    "X_train_and_validate, X_test, y_train_and_validate, y_test = train_test_split(X, y, random_state=123, test_size=.3)\n",
    "X_train, X_validate, y_train, y_validate = train_test_split(X_train_and_validate, y_train_and_validate, random_state=123, test_size=.2)"
   ]
  },
  {
   "cell_type": "code",
   "execution_count": 27,
   "id": "d49d210e",
   "metadata": {},
   "outputs": [
    {
     "data": {
      "text/plain": [
       "0.7590361445783133"
      ]
     },
     "execution_count": 27,
     "metadata": {},
     "output_type": "execute_result"
    }
   ],
   "source": [
    "\n",
    "knn = KNeighborsClassifier(n_neighbors=5, weights='uniform')\n",
    "\n",
    "knn.fit(X_train, y_train)\n",
    "\n",
    "\n",
    "y_pred = knn.predict(X_train)\n",
    "\n",
    "y_pred[0:5]\n",
    "\n",
    "knn.score(X_train, y_train)"
   ]
  },
  {
   "cell_type": "markdown",
   "id": "86e4b155",
   "metadata": {},
   "source": [
    "## 2, Evaluate your results using the model score, confusion matrix, and classification report."
   ]
  },
  {
   "cell_type": "code",
   "execution_count": 34,
   "id": "1f853534",
   "metadata": {},
   "outputs": [
    {
     "data": {
      "text/html": [
       "<div>\n",
       "<style scoped>\n",
       "    .dataframe tbody tr th:only-of-type {\n",
       "        vertical-align: middle;\n",
       "    }\n",
       "\n",
       "    .dataframe tbody tr th {\n",
       "        vertical-align: top;\n",
       "    }\n",
       "\n",
       "    .dataframe thead th {\n",
       "        text-align: right;\n",
       "    }\n",
       "</style>\n",
       "<table border=\"1\" class=\"dataframe\">\n",
       "  <thead>\n",
       "    <tr style=\"text-align: right;\">\n",
       "      <th></th>\n",
       "      <th>predicted not surived 0</th>\n",
       "      <th>predicted survived 1</th>\n",
       "    </tr>\n",
       "  </thead>\n",
       "  <tbody>\n",
       "    <tr>\n",
       "      <th>actual not survived 0</th>\n",
       "      <td>266</td>\n",
       "      <td>32</td>\n",
       "    </tr>\n",
       "    <tr>\n",
       "      <th>actual survived 1</th>\n",
       "      <td>117</td>\n",
       "      <td>83</td>\n",
       "    </tr>\n",
       "  </tbody>\n",
       "</table>\n",
       "</div>"
      ],
      "text/plain": [
       "                       predicted not surived 0  predicted survived 1\n",
       "actual not survived 0                      266                    32\n",
       "actual survived 1                          117                    83"
      ]
     },
     "execution_count": 34,
     "metadata": {},
     "output_type": "execute_result"
    }
   ],
   "source": [
    "index = ['predicted not surived 0','predicted survived 1']\n",
    "column = ['actual not survived 0','actual survived 1']\n",
    "# confusion matrix - actual on left, predicted on top\n",
    "pd.DataFrame(confusion_matrix(y_train, y_pred, labels= [0,1]), index = column, columns = index)"
   ]
  },
  {
   "cell_type": "code",
   "execution_count": 16,
   "id": "b0b13e3a",
   "metadata": {},
   "outputs": [
    {
     "name": "stdout",
     "output_type": "stream",
     "text": [
      "              precision    recall  f1-score   support\n",
      "\n",
      "           0       0.80      0.79      0.80       298\n",
      "           1       0.69      0.71      0.70       200\n",
      "\n",
      "    accuracy                           0.76       498\n",
      "   macro avg       0.75      0.75      0.75       498\n",
      "weighted avg       0.76      0.76      0.76       498\n",
      "\n"
     ]
    }
   ],
   "source": [
    "\n",
    "print(classification_report(y_train, y_pred))"
   ]
  },
  {
   "cell_type": "markdown",
   "id": "286a4632",
   "metadata": {},
   "source": [
    "# 3. Print and clearly label the following: Accuracy, true positive rate, false positive rate, true negative rate, false negative rate, precision, recall, f1-score, and support."
   ]
  },
  {
   "cell_type": "code",
   "execution_count": null,
   "id": "ec7bba34",
   "metadata": {},
   "outputs": [],
   "source": []
  },
  {
   "cell_type": "code",
   "execution_count": null,
   "id": "ab4c6187",
   "metadata": {},
   "outputs": [],
   "source": []
  },
  {
   "cell_type": "markdown",
   "id": "541363cd",
   "metadata": {},
   "source": [
    "## 4. Run through steps 2-4 setting k to 10"
   ]
  },
  {
   "cell_type": "code",
   "execution_count": 28,
   "id": "2e7ecd2f",
   "metadata": {},
   "outputs": [
    {
     "data": {
      "text/plain": [
       "0.7188755020080321"
      ]
     },
     "execution_count": 28,
     "metadata": {},
     "output_type": "execute_result"
    }
   ],
   "source": [
    "\n",
    "knn = KNeighborsClassifier(n_neighbors=10, weights='uniform')\n",
    "\n",
    "knn.fit(X_train, y_train)\n",
    "\n",
    "\n",
    "y_pred = knn.predict(X_train)\n",
    "\n",
    "y_pred[0:5]\n",
    "\n",
    "knn.score(X_train, y_train)"
   ]
  },
  {
   "cell_type": "markdown",
   "id": "df9c0cf2",
   "metadata": {},
   "source": [
    "## 5. Run through setps 2-4 setting k to 20"
   ]
  },
  {
   "cell_type": "code",
   "execution_count": 29,
   "id": "84d800e2",
   "metadata": {},
   "outputs": [
    {
     "data": {
      "text/plain": [
       "0.7008032128514057"
      ]
     },
     "execution_count": 29,
     "metadata": {},
     "output_type": "execute_result"
    }
   ],
   "source": [
    "\n",
    "knn = KNeighborsClassifier(n_neighbors=20, weights='uniform')\n",
    "\n",
    "knn.fit(X_train, y_train)\n",
    "\n",
    "\n",
    "y_pred = knn.predict(X_train)\n",
    "\n",
    "y_pred[0:5]\n",
    "\n",
    "knn.score(X_train, y_train)"
   ]
  },
  {
   "cell_type": "markdown",
   "id": "145b2c96",
   "metadata": {},
   "source": [
    "## 6.What are the differences in the evaluation metrics? Which performs better on your in-sample data? Why?\n",
    "\n",
    "## 7.Which model performs best on our out-of-sample data from validate?"
   ]
  },
  {
   "cell_type": "markdown",
   "id": "32fed92d",
   "metadata": {},
   "source": [
    "When the n_neighbors go up, the accuracy score going sightly down."
   ]
  }
 ],
 "metadata": {
  "kernelspec": {
   "display_name": "Python 3 (ipykernel)",
   "language": "python",
   "name": "python3"
  },
  "language_info": {
   "codemirror_mode": {
    "name": "ipython",
    "version": 3
   },
   "file_extension": ".py",
   "mimetype": "text/x-python",
   "name": "python",
   "nbconvert_exporter": "python",
   "pygments_lexer": "ipython3",
   "version": "3.9.7"
  }
 },
 "nbformat": 4,
 "nbformat_minor": 5
}
