{
 "cells": [
  {
   "cell_type": "code",
   "execution_count": 1,
   "id": "6076e451",
   "metadata": {},
   "outputs": [],
   "source": [
    "#math and statistics.\n",
    "from scipy import stats\n",
    "import statistics\n",
    "import math\n",
    "\n",
    "#impot matplot and seaborn for viz.\n",
    "import matplotlib.pyplot as plt\n",
    "import seaborn as sns\n",
    "\n",
    "#numpy and pandas library\n",
    "import numpy as np\n",
    "import pandas as pd\n",
    "\n",
    "#dataset library\n",
    "from pydataset import data\n",
    "import env\n",
    "import acquire\n",
    "\n",
    "\n",
    "import warnings \n",
    "warnings.filterwarnings(\"ignore\")\n",
    "\n",
    "from sklearn.tree import DecisionTreeClassifier, plot_tree, export_text\n",
    "from sklearn.model_selection import train_test_split\n",
    "from sklearn.metrics import classification_report\n",
    "from sklearn.metrics import confusion_matrix\n",
    "from sklearn.neighbors import KNeighborsClassifier\n",
    "\n",
    "\n"
   ]
  },
  {
   "cell_type": "markdown",
   "id": "589fe85e",
   "metadata": {},
   "source": [
    "# Decision Tree Exercises\n",
    "## Using the titanic data, in your classification-exercises repository, create a notebook, model.ipynb where you will do the following:"
   ]
  },
  {
   "cell_type": "code",
   "execution_count": 86,
   "id": "ca140e71",
   "metadata": {},
   "outputs": [
    {
     "name": "stdout",
     "output_type": "stream",
     "text": [
      "Using cached csv\n"
     ]
    }
   ],
   "source": [
    "df = acquire.get_titanic_data()"
   ]
  },
  {
   "cell_type": "code",
   "execution_count": 87,
   "id": "26faca7f",
   "metadata": {},
   "outputs": [
    {
     "data": {
      "text/html": [
       "<div>\n",
       "<style scoped>\n",
       "    .dataframe tbody tr th:only-of-type {\n",
       "        vertical-align: middle;\n",
       "    }\n",
       "\n",
       "    .dataframe tbody tr th {\n",
       "        vertical-align: top;\n",
       "    }\n",
       "\n",
       "    .dataframe thead th {\n",
       "        text-align: right;\n",
       "    }\n",
       "</style>\n",
       "<table border=\"1\" class=\"dataframe\">\n",
       "  <thead>\n",
       "    <tr style=\"text-align: right;\">\n",
       "      <th></th>\n",
       "      <th>passenger_id</th>\n",
       "      <th>survived</th>\n",
       "      <th>pclass</th>\n",
       "      <th>sex</th>\n",
       "      <th>age</th>\n",
       "      <th>sibsp</th>\n",
       "      <th>parch</th>\n",
       "      <th>fare</th>\n",
       "      <th>embarked</th>\n",
       "      <th>class</th>\n",
       "      <th>deck</th>\n",
       "      <th>embark_town</th>\n",
       "      <th>alone</th>\n",
       "    </tr>\n",
       "  </thead>\n",
       "  <tbody>\n",
       "    <tr>\n",
       "      <th>0</th>\n",
       "      <td>0</td>\n",
       "      <td>0</td>\n",
       "      <td>3</td>\n",
       "      <td>male</td>\n",
       "      <td>22.0</td>\n",
       "      <td>1</td>\n",
       "      <td>0</td>\n",
       "      <td>7.2500</td>\n",
       "      <td>S</td>\n",
       "      <td>Third</td>\n",
       "      <td>NaN</td>\n",
       "      <td>Southampton</td>\n",
       "      <td>0</td>\n",
       "    </tr>\n",
       "    <tr>\n",
       "      <th>1</th>\n",
       "      <td>1</td>\n",
       "      <td>1</td>\n",
       "      <td>1</td>\n",
       "      <td>female</td>\n",
       "      <td>38.0</td>\n",
       "      <td>1</td>\n",
       "      <td>0</td>\n",
       "      <td>71.2833</td>\n",
       "      <td>C</td>\n",
       "      <td>First</td>\n",
       "      <td>C</td>\n",
       "      <td>Cherbourg</td>\n",
       "      <td>0</td>\n",
       "    </tr>\n",
       "  </tbody>\n",
       "</table>\n",
       "</div>"
      ],
      "text/plain": [
       "   passenger_id  survived  pclass     sex   age  sibsp  parch     fare  \\\n",
       "0             0         0       3    male  22.0      1      0   7.2500   \n",
       "1             1         1       1  female  38.0      1      0  71.2833   \n",
       "\n",
       "  embarked  class deck  embark_town  alone  \n",
       "0        S  Third  NaN  Southampton      0  \n",
       "1        C  First    C    Cherbourg      0  "
      ]
     },
     "execution_count": 87,
     "metadata": {},
     "output_type": "execute_result"
    }
   ],
   "source": [
    "df.head(2)"
   ]
  },
  {
   "cell_type": "markdown",
   "id": "f962cac0",
   "metadata": {},
   "source": [
    "## Clean the Data "
   ]
  },
  {
   "cell_type": "code",
   "execution_count": 88,
   "id": "b9cd1d45",
   "metadata": {},
   "outputs": [
    {
     "name": "stdout",
     "output_type": "stream",
     "text": [
      "<class 'pandas.core.frame.DataFrame'>\n",
      "RangeIndex: 891 entries, 0 to 890\n",
      "Data columns (total 13 columns):\n",
      " #   Column        Non-Null Count  Dtype  \n",
      "---  ------        --------------  -----  \n",
      " 0   passenger_id  891 non-null    int64  \n",
      " 1   survived      891 non-null    int64  \n",
      " 2   pclass        891 non-null    int64  \n",
      " 3   sex           891 non-null    object \n",
      " 4   age           714 non-null    float64\n",
      " 5   sibsp         891 non-null    int64  \n",
      " 6   parch         891 non-null    int64  \n",
      " 7   fare          891 non-null    float64\n",
      " 8   embarked      889 non-null    object \n",
      " 9   class         891 non-null    object \n",
      " 10  deck          203 non-null    object \n",
      " 11  embark_town   889 non-null    object \n",
      " 12  alone         891 non-null    int64  \n",
      "dtypes: float64(2), int64(6), object(5)\n",
      "memory usage: 90.6+ KB\n"
     ]
    }
   ],
   "source": [
    "df.info()"
   ]
  },
  {
   "cell_type": "code",
   "execution_count": 89,
   "id": "6c05a3cf",
   "metadata": {},
   "outputs": [],
   "source": [
    "df = df.drop(columns = ['passenger_id','deck','embarked','class'])"
   ]
  },
  {
   "cell_type": "code",
   "execution_count": 90,
   "id": "4ee7f8ce",
   "metadata": {},
   "outputs": [],
   "source": [
    "df['sex'] = df['sex'].replace([\"male\",'female'], [0,1])"
   ]
  },
  {
   "cell_type": "code",
   "execution_count": 91,
   "id": "1d47c897",
   "metadata": {},
   "outputs": [
    {
     "data": {
      "text/plain": [
       "Index(['survived', 'pclass', 'sex', 'age', 'sibsp', 'parch', 'fare',\n",
       "       'embark_town', 'alone'],\n",
       "      dtype='object')"
      ]
     },
     "execution_count": 91,
     "metadata": {},
     "output_type": "execute_result"
    }
   ],
   "source": [
    "df.columns"
   ]
  },
  {
   "cell_type": "code",
   "execution_count": 92,
   "id": "de6a1c77",
   "metadata": {},
   "outputs": [],
   "source": [
    "df.age = df.age.fillna(value=df.age.median())"
   ]
  },
  {
   "cell_type": "code",
   "execution_count": 93,
   "id": "52ef4562",
   "metadata": {},
   "outputs": [],
   "source": [
    "df.embark_town = df.embark_town.fillna(value=\"Southampton\")"
   ]
  },
  {
   "cell_type": "code",
   "execution_count": 94,
   "id": "0208c2ba",
   "metadata": {},
   "outputs": [
    {
     "name": "stdout",
     "output_type": "stream",
     "text": [
      "<class 'pandas.core.frame.DataFrame'>\n",
      "RangeIndex: 891 entries, 0 to 890\n",
      "Data columns (total 9 columns):\n",
      " #   Column       Non-Null Count  Dtype  \n",
      "---  ------       --------------  -----  \n",
      " 0   survived     891 non-null    int64  \n",
      " 1   pclass       891 non-null    int64  \n",
      " 2   sex          891 non-null    int64  \n",
      " 3   age          891 non-null    float64\n",
      " 4   sibsp        891 non-null    int64  \n",
      " 5   parch        891 non-null    int64  \n",
      " 6   fare         891 non-null    float64\n",
      " 7   embark_town  891 non-null    object \n",
      " 8   alone        891 non-null    int64  \n",
      "dtypes: float64(2), int64(6), object(1)\n",
      "memory usage: 62.8+ KB\n"
     ]
    }
   ],
   "source": [
    "df.info()"
   ]
  },
  {
   "cell_type": "code",
   "execution_count": 95,
   "id": "b19dc141",
   "metadata": {},
   "outputs": [
    {
     "data": {
      "text/html": [
       "<div>\n",
       "<style scoped>\n",
       "    .dataframe tbody tr th:only-of-type {\n",
       "        vertical-align: middle;\n",
       "    }\n",
       "\n",
       "    .dataframe tbody tr th {\n",
       "        vertical-align: top;\n",
       "    }\n",
       "\n",
       "    .dataframe thead th {\n",
       "        text-align: right;\n",
       "    }\n",
       "</style>\n",
       "<table border=\"1\" class=\"dataframe\">\n",
       "  <thead>\n",
       "    <tr style=\"text-align: right;\">\n",
       "      <th></th>\n",
       "      <th>survived</th>\n",
       "      <th>pclass</th>\n",
       "      <th>sex</th>\n",
       "      <th>age</th>\n",
       "      <th>sibsp</th>\n",
       "      <th>parch</th>\n",
       "      <th>fare</th>\n",
       "      <th>embark_town</th>\n",
       "      <th>alone</th>\n",
       "    </tr>\n",
       "  </thead>\n",
       "  <tbody>\n",
       "    <tr>\n",
       "      <th>0</th>\n",
       "      <td>0</td>\n",
       "      <td>3</td>\n",
       "      <td>0</td>\n",
       "      <td>22.0</td>\n",
       "      <td>1</td>\n",
       "      <td>0</td>\n",
       "      <td>7.2500</td>\n",
       "      <td>Southampton</td>\n",
       "      <td>0</td>\n",
       "    </tr>\n",
       "    <tr>\n",
       "      <th>1</th>\n",
       "      <td>1</td>\n",
       "      <td>1</td>\n",
       "      <td>1</td>\n",
       "      <td>38.0</td>\n",
       "      <td>1</td>\n",
       "      <td>0</td>\n",
       "      <td>71.2833</td>\n",
       "      <td>Cherbourg</td>\n",
       "      <td>0</td>\n",
       "    </tr>\n",
       "  </tbody>\n",
       "</table>\n",
       "</div>"
      ],
      "text/plain": [
       "   survived  pclass  sex   age  sibsp  parch     fare  embark_town  alone\n",
       "0         0       3    0  22.0      1      0   7.2500  Southampton      0\n",
       "1         1       1    1  38.0      1      0  71.2833    Cherbourg      0"
      ]
     },
     "execution_count": 95,
     "metadata": {},
     "output_type": "execute_result"
    }
   ],
   "source": [
    "df.head(2)"
   ]
  },
  {
   "cell_type": "code",
   "execution_count": 96,
   "id": "d8e693e1",
   "metadata": {},
   "outputs": [],
   "source": [
    "train, test = train_test_split(df, train_size=0.8, random_state=1349, stratify=df.survived)\n",
    "# 70/30 train validate split\n",
    "train, validate = train_test_split(train, train_size=0.7, random_state=1349, stratify=train.survived)"
   ]
  },
  {
   "cell_type": "code",
   "execution_count": 97,
   "id": "4b8d48b9",
   "metadata": {},
   "outputs": [
    {
     "name": "stdout",
     "output_type": "stream",
     "text": [
      "(498, 9)\n",
      "(179, 9)\n",
      "(214, 9)\n"
     ]
    }
   ],
   "source": [
    "print(train.shape)\n",
    "print(test.shape)\n",
    "print(validate.shape)"
   ]
  },
  {
   "cell_type": "code",
   "execution_count": 98,
   "id": "7a01b849",
   "metadata": {},
   "outputs": [
    {
     "data": {
      "text/plain": [
       "pandas.core.series.Series"
      ]
     },
     "execution_count": 98,
     "metadata": {},
     "output_type": "execute_result"
    }
   ],
   "source": [
    "type(train['survived'])"
   ]
  },
  {
   "cell_type": "markdown",
   "id": "2d681fc2",
   "metadata": {},
   "source": [
    "## Question 1: All About That Base(line)\n",
    "**What is your baseline prediction? What is your baseline accuracy? remember: your baseline prediction for a classification problem is predicting the most prevelant class in the training dataset (the mode). When you make those predictions, what is your accuracy? This is your baseline accuracy.**"
   ]
  },
  {
   "cell_type": "code",
   "execution_count": 99,
   "id": "97101d77",
   "metadata": {},
   "outputs": [],
   "source": [
    "train['baseline'] = 0"
   ]
  },
  {
   "cell_type": "code",
   "execution_count": 100,
   "id": "fa7d8ae1",
   "metadata": {},
   "outputs": [],
   "source": [
    "baseline_accurancy = (train.survived == train.baseline).mean()"
   ]
  },
  {
   "cell_type": "code",
   "execution_count": 101,
   "id": "7ec87a13",
   "metadata": {},
   "outputs": [
    {
     "name": "stdout",
     "output_type": "stream",
     "text": [
      "The baseline accuracy is 61.65%\n"
     ]
    }
   ],
   "source": [
    "print(f'The baseline accuracy is {baseline_accurancy:.2%}')"
   ]
  },
  {
   "cell_type": "markdown",
   "id": "29dd2ead",
   "metadata": {},
   "source": [
    "## Question 2: Fit-Transform\n",
    "**Fit the decision tree classifier to your training sample and transform (i.e. make predictions on the training sample)**"
   ]
  },
  {
   "cell_type": "code",
   "execution_count": 102,
   "id": "12e1ffca",
   "metadata": {},
   "outputs": [],
   "source": [
    "from sklearn.ensemble import RandomForestClassifier"
   ]
  },
  {
   "cell_type": "code",
   "execution_count": 103,
   "id": "2fb5f3bc",
   "metadata": {},
   "outputs": [],
   "source": [
    "np.random.seed(25)"
   ]
  },
  {
   "cell_type": "code",
   "execution_count": 104,
   "id": "915c2a7d",
   "metadata": {},
   "outputs": [],
   "source": [
    "#train, test = train_test_split(df, train_size=0.8, random_state=1349, stratify=df.survived)\n",
    "# 70/30 train validate split\n",
    "#train, validate = train_test_split(train, train_size=0.7, random_state=1349, stratify=train.survived)"
   ]
  },
  {
   "cell_type": "code",
   "execution_count": 105,
   "id": "26761bde",
   "metadata": {},
   "outputs": [
    {
     "name": "stdout",
     "output_type": "stream",
     "text": [
      "<class 'pandas.core.frame.DataFrame'>\n",
      "RangeIndex: 891 entries, 0 to 890\n",
      "Data columns (total 5 columns):\n",
      " #   Column  Non-Null Count  Dtype  \n",
      "---  ------  --------------  -----  \n",
      " 0   pclass  891 non-null    int64  \n",
      " 1   age     891 non-null    float64\n",
      " 2   sibsp   891 non-null    int64  \n",
      " 3   parch   891 non-null    int64  \n",
      " 4   fare    891 non-null    float64\n",
      "dtypes: float64(2), int64(3)\n",
      "memory usage: 34.9 KB\n"
     ]
    }
   ],
   "source": [
    "X = df[['pclass', 'age', 'sibsp', 'parch', 'fare']]\n",
    "y = df.survived\n",
    "\n",
    "X.info()"
   ]
  },
  {
   "cell_type": "code",
   "execution_count": 106,
   "id": "d2729663",
   "metadata": {},
   "outputs": [],
   "source": [
    "\n",
    "X_train_and_validate, X_test, y_train_and_validate, y_test = train_test_split(X, y, random_state=123, test_size=.3)\n",
    "X_train, X_validate, y_train, y_validate = train_test_split(X_train_and_validate, y_train_and_validate, random_state=123, test_size=.2)"
   ]
  },
  {
   "cell_type": "code",
   "execution_count": 107,
   "id": "860899d9",
   "metadata": {},
   "outputs": [
    {
     "data": {
      "text/plain": [
       "DecisionTreeClassifier(max_depth=3)"
      ]
     },
     "execution_count": 107,
     "metadata": {},
     "output_type": "execute_result"
    }
   ],
   "source": [
    "tree = DecisionTreeClassifier(max_depth=3)\n",
    "tree.fit(X_train, y_train)"
   ]
  },
  {
   "cell_type": "code",
   "execution_count": 108,
   "id": "f69c78da",
   "metadata": {},
   "outputs": [
    {
     "name": "stdout",
     "output_type": "stream",
     "text": [
      "|--- pclass <= 2.50\n",
      "|   |--- fare <= 13.68\n",
      "|   |   |--- fare <= 7.75\n",
      "|   |   |   |--- class: 0\n",
      "|   |   |--- fare >  7.75\n",
      "|   |   |   |--- class: 0\n",
      "|   |--- fare >  13.68\n",
      "|   |   |--- age <= 45.25\n",
      "|   |   |   |--- class: 1\n",
      "|   |   |--- age >  45.25\n",
      "|   |   |   |--- class: 0\n",
      "|--- pclass >  2.50\n",
      "|   |--- age <= 6.50\n",
      "|   |   |--- sibsp <= 2.50\n",
      "|   |   |   |--- class: 1\n",
      "|   |   |--- sibsp >  2.50\n",
      "|   |   |   |--- class: 0\n",
      "|   |--- age >  6.50\n",
      "|   |   |--- age <= 32.50\n",
      "|   |   |   |--- class: 0\n",
      "|   |   |--- age >  32.50\n",
      "|   |   |   |--- class: 0\n",
      "\n"
     ]
    }
   ],
   "source": [
    "print(export_text(tree, feature_names=X_train.columns.tolist()))"
   ]
  },
  {
   "cell_type": "code",
   "execution_count": 109,
   "id": "c8a26c00",
   "metadata": {},
   "outputs": [],
   "source": [
    "y_train_str = y_train.replace({0: \"unsurvived\", 1: \"survived\"})"
   ]
  },
  {
   "cell_type": "code",
   "execution_count": 110,
   "id": "fa67ccbe",
   "metadata": {},
   "outputs": [
    {
     "data": {
      "text/plain": [
       "array(['unsurvived', 'survived'], dtype=object)"
      ]
     },
     "execution_count": 110,
     "metadata": {},
     "output_type": "execute_result"
    }
   ],
   "source": [
    "y_train_str.unique()"
   ]
  },
  {
   "cell_type": "code",
   "execution_count": 111,
   "id": "49b9e143",
   "metadata": {},
   "outputs": [
    {
     "data": {
      "image/png": "[encoded data removed]",
      "text/plain": [
       "<Figure size 864x504 with 1 Axes>"
      ]
     },
     "metadata": {
      "needs_background": "light"
     },
     "output_type": "display_data"
    }
   ],
   "source": [
    "plt.figure(figsize=(12, 7))\n",
    "plot_tree(tree, feature_names=X_train.columns, class_names= y_train_str.unique())\n",
    "plt.show()"
   ]
  },
  {
   "cell_type": "code",
   "execution_count": 112,
   "id": "ffaa1fdf",
   "metadata": {},
   "outputs": [
    {
     "data": {
      "text/plain": [
       "0.7248995983935743"
      ]
     },
     "execution_count": 112,
     "metadata": {},
     "output_type": "execute_result"
    }
   ],
   "source": [
    "tree.score(X_train, y_train)"
   ]
  },
  {
   "cell_type": "code",
   "execution_count": 30,
   "id": "8c29968b",
   "metadata": {},
   "outputs": [
    {
     "name": "stdout",
     "output_type": "stream",
     "text": [
      "              precision    recall  f1-score   support\n",
      "\n",
      "           0       0.74      0.81      0.78        81\n",
      "           1       0.58      0.48      0.53        44\n",
      "\n",
      "    accuracy                           0.70       125\n",
      "   macro avg       0.66      0.65      0.65       125\n",
      "weighted avg       0.69      0.70      0.69       125\n",
      "\n"
     ]
    }
   ],
   "source": [
    "predictions = tree.predict(X_validate)\n",
    "actual = y_validate\n",
    "\n",
    "print(classification_report(actual, predictions))"
   ]
  },
  {
   "cell_type": "code",
   "execution_count": 113,
   "id": "eaa1322f",
   "metadata": {},
   "outputs": [
    {
     "name": "stdout",
     "output_type": "stream",
     "text": [
      "              precision    recall  f1-score   support\n",
      "\n",
      "           0       0.76      0.86      0.81       170\n",
      "           1       0.69      0.54      0.61        98\n",
      "\n",
      "    accuracy                           0.74       268\n",
      "   macro avg       0.73      0.70      0.71       268\n",
      "weighted avg       0.74      0.74      0.73       268\n",
      "\n"
     ]
    }
   ],
   "source": [
    "predictions = tree.predict(X_test)\n",
    "actual = y_test\n",
    "\n",
    "print(classification_report(actual, predictions))"
   ]
  },
  {
   "cell_type": "markdown",
   "id": "b51f5260",
   "metadata": {},
   "source": [
    "## Question 3  Evaluate your in-sample results using the model score, confusion matrix, and classification report."
   ]
  },
  {
   "cell_type": "code",
   "execution_count": 114,
   "id": "4783c7a9",
   "metadata": {},
   "outputs": [
    {
     "data": {
      "text/html": [
       "<div>\n",
       "<style scoped>\n",
       "    .dataframe tbody tr th:only-of-type {\n",
       "        vertical-align: middle;\n",
       "    }\n",
       "\n",
       "    .dataframe tbody tr th {\n",
       "        vertical-align: top;\n",
       "    }\n",
       "\n",
       "    .dataframe thead th {\n",
       "        text-align: right;\n",
       "    }\n",
       "</style>\n",
       "<table border=\"1\" class=\"dataframe\">\n",
       "  <thead>\n",
       "    <tr style=\"text-align: right;\">\n",
       "      <th></th>\n",
       "      <th>precision</th>\n",
       "      <th>recall</th>\n",
       "      <th>f1-score</th>\n",
       "      <th>support</th>\n",
       "    </tr>\n",
       "  </thead>\n",
       "  <tbody>\n",
       "    <tr>\n",
       "      <th>0</th>\n",
       "      <td>0.764398</td>\n",
       "      <td>0.858824</td>\n",
       "      <td>0.808864</td>\n",
       "      <td>170.000000</td>\n",
       "    </tr>\n",
       "    <tr>\n",
       "      <th>1</th>\n",
       "      <td>0.688312</td>\n",
       "      <td>0.540816</td>\n",
       "      <td>0.605714</td>\n",
       "      <td>98.000000</td>\n",
       "    </tr>\n",
       "    <tr>\n",
       "      <th>accuracy</th>\n",
       "      <td>0.742537</td>\n",
       "      <td>0.742537</td>\n",
       "      <td>0.742537</td>\n",
       "      <td>0.742537</td>\n",
       "    </tr>\n",
       "    <tr>\n",
       "      <th>macro avg</th>\n",
       "      <td>0.726355</td>\n",
       "      <td>0.699820</td>\n",
       "      <td>0.707289</td>\n",
       "      <td>268.000000</td>\n",
       "    </tr>\n",
       "    <tr>\n",
       "      <th>weighted avg</th>\n",
       "      <td>0.736575</td>\n",
       "      <td>0.742537</td>\n",
       "      <td>0.734578</td>\n",
       "      <td>268.000000</td>\n",
       "    </tr>\n",
       "  </tbody>\n",
       "</table>\n",
       "</div>"
      ],
      "text/plain": [
       "              precision    recall  f1-score     support\n",
       "0              0.764398  0.858824  0.808864  170.000000\n",
       "1              0.688312  0.540816  0.605714   98.000000\n",
       "accuracy       0.742537  0.742537  0.742537    0.742537\n",
       "macro avg      0.726355  0.699820  0.707289  268.000000\n",
       "weighted avg   0.736575  0.742537  0.734578  268.000000"
      ]
     },
     "execution_count": 114,
     "metadata": {},
     "output_type": "execute_result"
    }
   ],
   "source": [
    "pd.DataFrame(classification_report(actual, predictions,\n",
    "                      output_dict=True)).T"
   ]
  },
  {
   "cell_type": "markdown",
   "id": "667ffea1",
   "metadata": {},
   "source": [
    "## Question 4,  Compute: Accuracy, true positive rate, false positive rate, true negative rate, false negative rate, precision, recall, f1-score, and support."
   ]
  },
  {
   "cell_type": "code",
   "execution_count": 115,
   "id": "707b1a25",
   "metadata": {},
   "outputs": [],
   "source": [
    "from sklearn.metrics import confusion_matrix\n"
   ]
  },
  {
   "cell_type": "code",
   "execution_count": 116,
   "id": "4589b5ff",
   "metadata": {},
   "outputs": [
    {
     "data": {
      "text/html": [
       "<div>\n",
       "<style scoped>\n",
       "    .dataframe tbody tr th:only-of-type {\n",
       "        vertical-align: middle;\n",
       "    }\n",
       "\n",
       "    .dataframe tbody tr th {\n",
       "        vertical-align: top;\n",
       "    }\n",
       "\n",
       "    .dataframe thead th {\n",
       "        text-align: right;\n",
       "    }\n",
       "</style>\n",
       "<table border=\"1\" class=\"dataframe\">\n",
       "  <thead>\n",
       "    <tr style=\"text-align: right;\">\n",
       "      <th></th>\n",
       "      <th>0</th>\n",
       "      <th>1</th>\n",
       "    </tr>\n",
       "  </thead>\n",
       "  <tbody>\n",
       "    <tr>\n",
       "      <th>0</th>\n",
       "      <td>146</td>\n",
       "      <td>24</td>\n",
       "    </tr>\n",
       "    <tr>\n",
       "      <th>1</th>\n",
       "      <td>45</td>\n",
       "      <td>53</td>\n",
       "    </tr>\n",
       "  </tbody>\n",
       "</table>\n",
       "</div>"
      ],
      "text/plain": [
       "     0   1\n",
       "0  146  24\n",
       "1   45  53"
      ]
     },
     "execution_count": 116,
     "metadata": {},
     "output_type": "execute_result"
    }
   ],
   "source": [
    "# confusion matrix - actual on left, predicted on top\n",
    "pd.DataFrame(confusion_matrix(actual, predictions, labels = [0,1], index = , columns = ))"
   ]
  },
  {
   "cell_type": "markdown",
   "id": "31208a03",
   "metadata": {},
   "source": [
    "TP, predicted they live and yes : 21 \n",
    "\n",
    "TN, predicted they live but no: 15 \n",
    "\n",
    "FN: predicted they die, but they live: 23\n",
    "\n",
    "TN: predicted they die, and they die: 66\n",
    "\n",
    "\n",
    "Metrics\n",
    "accuracy: (TP + TN) / (TP + TN + FP + FN)\n",
    "\n",
    "precision: TP / (TP + FP)\n",
    "\n",
    "FP is more costly than FN\n",
    "recall: TP / (TP + FN)\n",
    "\n",
    "\n"
   ]
  },
  {
   "cell_type": "code",
   "execution_count": 117,
   "id": "d5e5cf1c",
   "metadata": {},
   "outputs": [],
   "source": [
    "TP = 21\n",
    "TN = 15\n",
    "FP = 23\n",
    "TN = 66\n",
    "accuracy = (TP + TN) / (TP + TN + FP + FN)\n",
    "precision = TP / (TP + FP)\n",
    "recall= TP / (TP + FN)"
   ]
  },
  {
   "cell_type": "code",
   "execution_count": 118,
   "id": "db7f2499",
   "metadata": {},
   "outputs": [
    {
     "name": "stdout",
     "output_type": "stream",
     "text": [
      "The accuracy score is 65.41%\n",
      "The precision score is 47.73%\n",
      "The recall score is 47.73%\n"
     ]
    }
   ],
   "source": [
    "print(f'The accuracy score is {accuracy:.2%}')\n",
    "print(f'The precision score is {precision:.2%}')\n",
    "print(f'The recall score is {recall:.2%}')"
   ]
  },
  {
   "cell_type": "markdown",
   "id": "64c01aba",
   "metadata": {},
   "source": [
    "## Question 5, Run through steps 2-4 using a different max_depth value."
   ]
  },
  {
   "cell_type": "code",
   "execution_count": 119,
   "id": "a23f5e46",
   "metadata": {},
   "outputs": [],
   "source": [
    "X = df[['age', 'fare','sex']]\n",
    "y = df.survived\n"
   ]
  },
  {
   "cell_type": "code",
   "execution_count": 120,
   "id": "df799214",
   "metadata": {},
   "outputs": [
    {
     "name": "stdout",
     "output_type": "stream",
     "text": [
      "<class 'pandas.core.frame.DataFrame'>\n",
      "RangeIndex: 891 entries, 0 to 890\n",
      "Data columns (total 3 columns):\n",
      " #   Column  Non-Null Count  Dtype  \n",
      "---  ------  --------------  -----  \n",
      " 0   age     891 non-null    float64\n",
      " 1   fare    891 non-null    float64\n",
      " 2   sex     891 non-null    int64  \n",
      "dtypes: float64(2), int64(1)\n",
      "memory usage: 21.0 KB\n"
     ]
    }
   ],
   "source": [
    "X.info()"
   ]
  },
  {
   "cell_type": "code",
   "execution_count": 121,
   "id": "e1de016c",
   "metadata": {},
   "outputs": [],
   "source": [
    "\n",
    "X_train_and_validate, X_test, y_train_and_validate, y_test = train_test_split(X, y, random_state=123, test_size=.3)\n",
    "X_train, X_validate, y_train, y_validate = train_test_split(X_train_and_validate, y_train_and_validate, random_state=123, test_size=.2)"
   ]
  },
  {
   "cell_type": "code",
   "execution_count": 122,
   "id": "dc4e12e0",
   "metadata": {},
   "outputs": [
    {
     "data": {
      "text/plain": [
       "DecisionTreeClassifier(max_depth=3)"
      ]
     },
     "execution_count": 122,
     "metadata": {},
     "output_type": "execute_result"
    }
   ],
   "source": [
    "tree = DecisionTreeClassifier(max_depth=3)\n",
    "tree.fit(X_train, y_train)"
   ]
  },
  {
   "cell_type": "code",
   "execution_count": 123,
   "id": "007be163",
   "metadata": {},
   "outputs": [
    {
     "name": "stdout",
     "output_type": "stream",
     "text": [
      "|--- sex <= 0.50\n",
      "|   |--- age <= 6.50\n",
      "|   |   |--- fare <= 26.95\n",
      "|   |   |   |--- class: 1\n",
      "|   |   |--- fare >  26.95\n",
      "|   |   |   |--- class: 0\n",
      "|   |--- age >  6.50\n",
      "|   |   |--- fare <= 26.27\n",
      "|   |   |   |--- class: 0\n",
      "|   |   |--- fare >  26.27\n",
      "|   |   |   |--- class: 0\n",
      "|--- sex >  0.50\n",
      "|   |--- fare <= 70.28\n",
      "|   |   |--- fare <= 69.43\n",
      "|   |   |   |--- class: 1\n",
      "|   |   |--- fare >  69.43\n",
      "|   |   |   |--- class: 0\n",
      "|   |--- fare >  70.28\n",
      "|   |   |--- class: 1\n",
      "\n"
     ]
    }
   ],
   "source": [
    "print(export_text(tree, feature_names=X_train.columns.tolist()))"
   ]
  },
  {
   "cell_type": "code",
   "execution_count": 124,
   "id": "511b39ef",
   "metadata": {},
   "outputs": [],
   "source": [
    "y_train_str = y_train.replace({0: \"unsurvived\", 1: \"survived\"})"
   ]
  },
  {
   "cell_type": "code",
   "execution_count": 125,
   "id": "379cea4d",
   "metadata": {},
   "outputs": [
    {
     "data": {
      "image/png": "[encoded data removed]",
      "text/plain": [
       "<Figure size 864x504 with 1 Axes>"
      ]
     },
     "metadata": {
      "needs_background": "light"
     },
     "output_type": "display_data"
    }
   ],
   "source": [
    "plt.figure(figsize=(12, 7))\n",
    "plot_tree(tree, feature_names=X_train.columns, class_names= y_train_str.unique())\n",
    "plt.show()"
   ]
  },
  {
   "cell_type": "code",
   "execution_count": 126,
   "id": "25f621b3",
   "metadata": {},
   "outputs": [
    {
     "data": {
      "text/plain": [
       "0.8032128514056225"
      ]
     },
     "execution_count": 126,
     "metadata": {},
     "output_type": "execute_result"
    }
   ],
   "source": [
    "tree.score(X_train, y_train)"
   ]
  },
  {
   "cell_type": "code",
   "execution_count": 127,
   "id": "c06fae64",
   "metadata": {},
   "outputs": [
    {
     "name": "stdout",
     "output_type": "stream",
     "text": [
      "              precision    recall  f1-score   support\n",
      "\n",
      "           0       0.87      0.80      0.83        81\n",
      "           1       0.68      0.77      0.72        44\n",
      "\n",
      "    accuracy                           0.79       125\n",
      "   macro avg       0.77      0.79      0.78       125\n",
      "weighted avg       0.80      0.79      0.79       125\n",
      "\n"
     ]
    }
   ],
   "source": [
    "predictions = tree.predict(X_validate)\n",
    "actual = y_validate\n",
    "\n",
    "print(classification_report(actual, predictions))"
   ]
  },
  {
   "cell_type": "code",
   "execution_count": 128,
   "id": "0d22e3fb",
   "metadata": {},
   "outputs": [
    {
     "name": "stdout",
     "output_type": "stream",
     "text": [
      "              precision    recall  f1-score   support\n",
      "\n",
      "           0       0.83      0.85      0.84       170\n",
      "           1       0.73      0.70      0.72        98\n",
      "\n",
      "    accuracy                           0.80       268\n",
      "   macro avg       0.78      0.78      0.78       268\n",
      "weighted avg       0.80      0.80      0.80       268\n",
      "\n"
     ]
    }
   ],
   "source": [
    "predictions = tree.predict(X_test)\n",
    "actual = y_test\n",
    "\n",
    "print(classification_report(actual, predictions))"
   ]
  },
  {
   "cell_type": "code",
   "execution_count": 129,
   "id": "15b653e9",
   "metadata": {},
   "outputs": [
    {
     "data": {
      "text/html": [
       "<div>\n",
       "<style scoped>\n",
       "    .dataframe tbody tr th:only-of-type {\n",
       "        vertical-align: middle;\n",
       "    }\n",
       "\n",
       "    .dataframe tbody tr th {\n",
       "        vertical-align: top;\n",
       "    }\n",
       "\n",
       "    .dataframe thead th {\n",
       "        text-align: right;\n",
       "    }\n",
       "</style>\n",
       "<table border=\"1\" class=\"dataframe\">\n",
       "  <thead>\n",
       "    <tr style=\"text-align: right;\">\n",
       "      <th></th>\n",
       "      <th>precision</th>\n",
       "      <th>recall</th>\n",
       "      <th>f1-score</th>\n",
       "      <th>support</th>\n",
       "    </tr>\n",
       "  </thead>\n",
       "  <tbody>\n",
       "    <tr>\n",
       "      <th>0</th>\n",
       "      <td>0.833333</td>\n",
       "      <td>0.852941</td>\n",
       "      <td>0.843023</td>\n",
       "      <td>170.000000</td>\n",
       "    </tr>\n",
       "    <tr>\n",
       "      <th>1</th>\n",
       "      <td>0.734043</td>\n",
       "      <td>0.704082</td>\n",
       "      <td>0.718750</td>\n",
       "      <td>98.000000</td>\n",
       "    </tr>\n",
       "    <tr>\n",
       "      <th>accuracy</th>\n",
       "      <td>0.798507</td>\n",
       "      <td>0.798507</td>\n",
       "      <td>0.798507</td>\n",
       "      <td>0.798507</td>\n",
       "    </tr>\n",
       "    <tr>\n",
       "      <th>macro avg</th>\n",
       "      <td>0.783688</td>\n",
       "      <td>0.778511</td>\n",
       "      <td>0.780887</td>\n",
       "      <td>268.000000</td>\n",
       "    </tr>\n",
       "    <tr>\n",
       "      <th>weighted avg</th>\n",
       "      <td>0.797026</td>\n",
       "      <td>0.798507</td>\n",
       "      <td>0.797580</td>\n",
       "      <td>268.000000</td>\n",
       "    </tr>\n",
       "  </tbody>\n",
       "</table>\n",
       "</div>"
      ],
      "text/plain": [
       "              precision    recall  f1-score     support\n",
       "0              0.833333  0.852941  0.843023  170.000000\n",
       "1              0.734043  0.704082  0.718750   98.000000\n",
       "accuracy       0.798507  0.798507  0.798507    0.798507\n",
       "macro avg      0.783688  0.778511  0.780887  268.000000\n",
       "weighted avg   0.797026  0.798507  0.797580  268.000000"
      ]
     },
     "execution_count": 129,
     "metadata": {},
     "output_type": "execute_result"
    }
   ],
   "source": [
    "pd.DataFrame(classification_report(actual, predictions,\n",
    "                      output_dict=True)).T"
   ]
  },
  {
   "cell_type": "markdown",
   "id": "97f3e10d",
   "metadata": {},
   "source": [
    "## Question 6, Which model performs better on your in-sample data?"
   ]
  },
  {
   "cell_type": "markdown",
   "id": "a085acd9",
   "metadata": {},
   "source": [
    "Model 2 performance better on my in-sample data. 0.80"
   ]
  },
  {
   "cell_type": "markdown",
   "id": "fce6b5d5",
   "metadata": {},
   "source": [
    "## Question 7, Which model performs best on your out-of-sample data, the validate set?\n",
    "\n"
   ]
  },
  {
   "cell_type": "markdown",
   "id": "10818d64",
   "metadata": {},
   "source": [
    "Model 2 performance better on my out of sample data, the validate set. 0.79"
   ]
  },
  {
   "cell_type": "markdown",
   "id": "54e32a40",
   "metadata": {},
   "source": [
    "# Random Forest Exercises"
   ]
  },
  {
   "cell_type": "markdown",
   "id": "390c609e",
   "metadata": {},
   "source": [
    "### Question 1: Fit the Random Forest classifier to your training sample and transform (i.e. make predictions on the training sample) setting the random_state accordingly and setting min_samples_leaf = 1 and max_depth = 10."
   ]
  },
  {
   "cell_type": "markdown",
   "id": "574420e2",
   "metadata": {},
   "source": [
    "**Train Model\n",
    "Create the object**"
   ]
  },
  {
   "cell_type": "code",
   "execution_count": 130,
   "id": "7b1d0469",
   "metadata": {},
   "outputs": [],
   "source": [
    "# create the classifier object\n",
    "from sklearn.ensemble import RandomForestClassifier\n",
    "rf = RandomForestClassifier(max_depth=10,min_samples_leaf=1,random_state=1349)"
   ]
  },
  {
   "cell_type": "code",
   "execution_count": null,
   "id": "0ab10277",
   "metadata": {},
   "outputs": [],
   "source": [
    "X = df[['age', 'fare','sex']]\n",
    "y = df.survived"
   ]
  },
  {
   "cell_type": "markdown",
   "id": "5bd90542",
   "metadata": {},
   "source": [
    "**Fit the model**\n",
    "\n",
    "Fit the random forest algorithm to the training data."
   ]
  },
  {
   "cell_type": "code",
   "execution_count": 131,
   "id": "b44f80b7",
   "metadata": {},
   "outputs": [
    {
     "data": {
      "text/plain": [
       "RandomForestClassifier(max_depth=10, random_state=1349)"
      ]
     },
     "execution_count": 131,
     "metadata": {},
     "output_type": "execute_result"
    }
   ],
   "source": [
    "rf.fit(X_train, y_train)"
   ]
  },
  {
   "cell_type": "markdown",
   "id": "74a4856b",
   "metadata": {},
   "source": [
    "**Feature Importance**\n",
    "\n",
    "Evaluate importance, or weight, of each feature.\n",
    "\n",
    "The higher number the feature importance == more important the feature.\n",
    "\n",
    "The importance of a feature is computed as the (normalized) total reduction of the criterion brought by that feature."
   ]
  },
  {
   "cell_type": "code",
   "execution_count": 132,
   "id": "f8971f57",
   "metadata": {},
   "outputs": [
    {
     "name": "stdout",
     "output_type": "stream",
     "text": [
      "[0.31135902 0.38697552 0.30166546]\n"
     ]
    }
   ],
   "source": [
    "print(rf.feature_importances_)"
   ]
  },
  {
   "cell_type": "markdown",
   "id": "68a84723",
   "metadata": {},
   "source": [
    "**Make Predictions**\n",
    "\n",
    "Classify each flower by its estimated species.\n",
    "\n"
   ]
  },
  {
   "cell_type": "code",
   "execution_count": 133,
   "id": "3ba18ef0",
   "metadata": {},
   "outputs": [
    {
     "data": {
      "text/plain": [
       "array([0, 1, 1, 0, 0, 1, 0, 1, 1, 0, 0, 0, 0, 0, 0, 0, 0, 0, 0, 0, 1, 1,\n",
       "       0, 0, 1, 0, 0, 0, 0, 1, 0, 1, 1, 1, 0, 0, 1, 0, 0, 1, 0, 0, 1, 0,\n",
       "       0, 0, 0, 0, 0, 0, 1, 0, 1, 0, 1, 0, 0, 0, 0, 0, 0, 0, 0, 1, 0, 1,\n",
       "       1, 1, 0, 1, 0, 0, 0, 0, 0, 1, 1, 0, 0, 1, 0, 0, 1, 0, 0, 0, 1, 1,\n",
       "       0, 1, 0, 0, 0, 0, 0, 1, 0, 1, 0, 1, 0, 0, 0, 0, 0, 0, 0, 0, 1, 1,\n",
       "       0, 1, 1, 0, 1, 0, 0, 0, 0, 0, 0, 0, 0, 1, 0, 1, 1, 0, 1, 1, 1, 0,\n",
       "       1, 1, 0, 1, 0, 0, 0, 0, 1, 0, 0, 0, 0, 1, 0, 0, 0, 0, 1, 0, 1, 0,\n",
       "       1, 0, 0, 1, 0, 1, 1, 0, 1, 1, 0, 1, 0, 1, 1, 1, 1, 0, 0, 0, 1, 1,\n",
       "       1, 0, 0, 0, 1, 0, 1, 0, 0, 0, 1, 0, 1, 1, 0, 1, 0, 0, 0, 0, 1, 1,\n",
       "       1, 0, 0, 0, 0, 0, 0, 1, 0, 0, 1, 1, 0, 0, 0, 0, 0, 1, 0, 1, 1, 1,\n",
       "       0, 1, 1, 0, 0, 0, 1, 0, 0, 0, 0, 0, 0, 1, 1, 1, 0, 1, 0, 0, 0, 0,\n",
       "       1, 1, 0, 0, 0, 1, 0, 0, 1, 0, 0, 0, 0, 0, 0, 1, 0, 1, 0, 1, 0, 1,\n",
       "       1, 1, 1, 0, 0, 0, 0, 0, 1, 1, 1, 1, 1, 1, 1, 0, 0, 0, 0, 1, 0, 0,\n",
       "       0, 0, 0, 1, 0, 0, 0, 0, 0, 0, 1, 0, 0, 0, 0, 1, 0, 1, 0, 0, 0, 0,\n",
       "       0, 0, 0, 0, 0, 0, 0, 1, 1, 1, 1, 0, 1, 0, 1, 1, 1, 0, 0, 0, 1, 0,\n",
       "       0, 1, 0, 1, 1, 1, 0, 1, 0, 0, 0, 1, 0, 0, 1, 0, 0, 0, 0, 1, 0, 1,\n",
       "       0, 1, 0, 0, 1, 1, 0, 0, 0, 1, 0, 1, 0, 0, 0, 1, 0, 1, 0, 1, 0, 1,\n",
       "       0, 1, 1, 0, 0, 1, 1, 0, 1, 1, 0, 0, 1, 1, 1, 1, 0, 0, 1, 0, 0, 0,\n",
       "       0, 0, 1, 0, 0, 0, 0, 1, 1, 0, 0, 0, 1, 0, 0, 0, 0, 0, 0, 0, 1, 0,\n",
       "       1, 1, 0, 0, 1, 1, 0, 1, 0, 1, 0, 0, 0, 0, 1, 0, 1, 0, 1, 0, 1, 1,\n",
       "       0, 0, 0, 0, 0, 0, 0, 0, 1, 1, 1, 1, 1, 1, 0, 1, 1, 0, 0, 1, 1, 0,\n",
       "       0, 0, 0, 0, 0, 0, 1, 1, 0, 0, 1, 1, 0, 0, 0, 1, 0, 0, 0, 0, 1, 0,\n",
       "       0, 0, 0, 1, 1, 0, 0, 1, 1, 1, 0, 0, 1, 0])"
      ]
     },
     "execution_count": 133,
     "metadata": {},
     "output_type": "execute_result"
    }
   ],
   "source": [
    "y_pred = rf.predict(X_train)\n",
    "y_pred"
   ]
  },
  {
   "cell_type": "markdown",
   "id": "dcb08f40",
   "metadata": {},
   "source": [
    "**Estimate Probability**\n",
    "\n",
    "Estimate the probability of outcome, using the training data.\n",
    "\n"
   ]
  },
  {
   "cell_type": "code",
   "execution_count": 134,
   "id": "bdf8172c",
   "metadata": {},
   "outputs": [],
   "source": [
    "y_pred_proba = rf.predict_proba(X_train)"
   ]
  },
  {
   "cell_type": "markdown",
   "id": "0ff62c2c",
   "metadata": {},
   "source": [
    "### Question 2: Evaluate your results using the model score, confusion matrix, and classification report.\n",
    "\n",
    "### Question 3: Print and clearly label the following: Accuracy, true positive rate, false positive rate, true negative rate, false negative rate, precision, recall, f1-score, and support."
   ]
  },
  {
   "cell_type": "markdown",
   "id": "17d5eecb",
   "metadata": {},
   "source": [
    "**Evaluate Model**\n",
    "\n",
    "Compute the Accuracy"
   ]
  },
  {
   "cell_type": "code",
   "execution_count": 135,
   "id": "38ce451d",
   "metadata": {},
   "outputs": [
    {
     "data": {
      "text/plain": [
       "0.9337349397590361"
      ]
     },
     "execution_count": 135,
     "metadata": {},
     "output_type": "execute_result"
    }
   ],
   "source": [
    "rf.score(X_train, y_train)"
   ]
  },
  {
   "cell_type": "markdown",
   "id": "7b2a7f7d",
   "metadata": {},
   "source": [
    "**Create a confusion matrix**"
   ]
  },
  {
   "cell_type": "code",
   "execution_count": 136,
   "id": "52d53cae",
   "metadata": {},
   "outputs": [
    {
     "name": "stdout",
     "output_type": "stream",
     "text": [
      "[[288  10]\n",
      " [ 23 177]]\n"
     ]
    }
   ],
   "source": [
    "print(confusion_matrix(y_train, y_pred))"
   ]
  },
  {
   "cell_type": "code",
   "execution_count": 137,
   "id": "ec603d6e",
   "metadata": {},
   "outputs": [
    {
     "name": "stdout",
     "output_type": "stream",
     "text": [
      "              precision    recall  f1-score   support\n",
      "\n",
      "           0       0.93      0.97      0.95       298\n",
      "           1       0.95      0.89      0.91       200\n",
      "\n",
      "    accuracy                           0.93       498\n",
      "   macro avg       0.94      0.93      0.93       498\n",
      "weighted avg       0.93      0.93      0.93       498\n",
      "\n"
     ]
    }
   ],
   "source": [
    "print(classification_report(y_train, y_pred))"
   ]
  },
  {
   "cell_type": "code",
   "execution_count": 138,
   "id": "b55f6177",
   "metadata": {},
   "outputs": [
    {
     "data": {
      "text/plain": [
       "0.792"
      ]
     },
     "execution_count": 138,
     "metadata": {},
     "output_type": "execute_result"
    }
   ],
   "source": [
    "rf.score(X_validate, y_validate)"
   ]
  },
  {
   "cell_type": "markdown",
   "id": "d21144e0",
   "metadata": {},
   "source": [
    "### Question 4, Run through steps increasing your min_samples_leaf and decreasing your max_depth."
   ]
  },
  {
   "cell_type": "code",
   "execution_count": 139,
   "id": "c0b19f25",
   "metadata": {},
   "outputs": [
    {
     "data": {
      "text/plain": [
       "[0.9176706827309237,\n",
       " 0.8835341365461847,\n",
       " 0.8514056224899599,\n",
       " 0.8192771084337349,\n",
       " 0.8032128514056225,\n",
       " 0.7991967871485943,\n",
       " 0.7951807228915663,\n",
       " 0.7971887550200804,\n",
       " 0.7550200803212851]"
      ]
     },
     "execution_count": 139,
     "metadata": {},
     "output_type": "execute_result"
    }
   ],
   "source": [
    "max_depth = 10\n",
    "min_samples_leaf = 1 \n",
    "metrics = []\n",
    "\n",
    "for i in range(1,max_depth):\n",
    "    depth = max_depth - i\n",
    "    n_samples = i\n",
    "    rf = RandomForestClassifier(max_depth = depth,\n",
    "                            min_samples_leaf = n_samples,\n",
    "                            random_state=1349)\n",
    "    rf.fit(X_train, y_train)\n",
    "    in_sample_accuracy = rf.score(X_train, y_train)\n",
    "    metrics.append(in_sample_accuracy)\n",
    "    \n",
    "metrics\n"
   ]
  },
  {
   "cell_type": "code",
   "execution_count": 140,
   "id": "f3eba99e",
   "metadata": {},
   "outputs": [
    {
     "data": {
      "text/html": [
       "<div>\n",
       "<style scoped>\n",
       "    .dataframe tbody tr th:only-of-type {\n",
       "        vertical-align: middle;\n",
       "    }\n",
       "\n",
       "    .dataframe tbody tr th {\n",
       "        vertical-align: top;\n",
       "    }\n",
       "\n",
       "    .dataframe thead th {\n",
       "        text-align: right;\n",
       "    }\n",
       "</style>\n",
       "<table border=\"1\" class=\"dataframe\">\n",
       "  <thead>\n",
       "    <tr style=\"text-align: right;\">\n",
       "      <th></th>\n",
       "      <th>max_depth</th>\n",
       "      <th>sample_leaf</th>\n",
       "      <th>in_sample_accuracy</th>\n",
       "      <th>out_of_sample_accuracy</th>\n",
       "    </tr>\n",
       "  </thead>\n",
       "  <tbody>\n",
       "    <tr>\n",
       "      <th>0</th>\n",
       "      <td>9</td>\n",
       "      <td>2</td>\n",
       "      <td>0.90</td>\n",
       "      <td>0.81</td>\n",
       "    </tr>\n",
       "    <tr>\n",
       "      <th>1</th>\n",
       "      <td>8</td>\n",
       "      <td>3</td>\n",
       "      <td>0.87</td>\n",
       "      <td>0.79</td>\n",
       "    </tr>\n",
       "    <tr>\n",
       "      <th>2</th>\n",
       "      <td>7</td>\n",
       "      <td>4</td>\n",
       "      <td>0.84</td>\n",
       "      <td>0.78</td>\n",
       "    </tr>\n",
       "    <tr>\n",
       "      <th>3</th>\n",
       "      <td>6</td>\n",
       "      <td>5</td>\n",
       "      <td>0.82</td>\n",
       "      <td>0.79</td>\n",
       "    </tr>\n",
       "    <tr>\n",
       "      <th>4</th>\n",
       "      <td>5</td>\n",
       "      <td>6</td>\n",
       "      <td>0.81</td>\n",
       "      <td>0.79</td>\n",
       "    </tr>\n",
       "    <tr>\n",
       "      <th>5</th>\n",
       "      <td>4</td>\n",
       "      <td>7</td>\n",
       "      <td>0.80</td>\n",
       "      <td>0.79</td>\n",
       "    </tr>\n",
       "    <tr>\n",
       "      <th>6</th>\n",
       "      <td>3</td>\n",
       "      <td>8</td>\n",
       "      <td>0.80</td>\n",
       "      <td>0.78</td>\n",
       "    </tr>\n",
       "    <tr>\n",
       "      <th>7</th>\n",
       "      <td>2</td>\n",
       "      <td>9</td>\n",
       "      <td>0.79</td>\n",
       "      <td>0.78</td>\n",
       "    </tr>\n",
       "    <tr>\n",
       "      <th>8</th>\n",
       "      <td>1</td>\n",
       "      <td>10</td>\n",
       "      <td>0.75</td>\n",
       "      <td>0.79</td>\n",
       "    </tr>\n",
       "  </tbody>\n",
       "</table>\n",
       "</div>"
      ],
      "text/plain": [
       "   max_depth  sample_leaf  in_sample_accuracy  out_of_sample_accuracy\n",
       "0          9            2                0.90                    0.81\n",
       "1          8            3                0.87                    0.79\n",
       "2          7            4                0.84                    0.78\n",
       "3          6            5                0.82                    0.79\n",
       "4          5            6                0.81                    0.79\n",
       "5          4            7                0.80                    0.79\n",
       "6          3            8                0.80                    0.78\n",
       "7          2            9                0.79                    0.78\n",
       "8          1           10                0.75                    0.79"
      ]
     },
     "execution_count": 140,
     "metadata": {},
     "output_type": "execute_result"
    }
   ],
   "source": [
    "max_depth = 11\n",
    "score = []\n",
    "\n",
    "for i in range(2, max_depth):\n",
    "    depth = max_depth - i\n",
    "    sample_size = i\n",
    "    \n",
    "    rf = RandomForestClassifier(max_depth=depth,\n",
    "                                min_samples_leaf = sample_size,\n",
    "                                random_state=1349)\n",
    "    rf.fit(X_train, y_train)\n",
    "\n",
    "    in_sample = rf.score(X_train, y_train)\n",
    "    out_of_sample = rf.score(X_validate, y_validate)\n",
    "    \n",
    "    output = {\"max_depth\" :depth, \n",
    "              \"sample_leaf\" : sample_size, \n",
    "              \"in_sample_accuracy\" :in_sample.round(2),\n",
    "              \"out_of_sample_accuracy\":out_of_sample.round(2),\n",
    "             }\n",
    "    \n",
    "    score.append(output)\n",
    "   \n",
    "df = pd.DataFrame(score)\n",
    "df"
   ]
  },
  {
   "cell_type": "markdown",
   "id": "7f73c2c8",
   "metadata": {},
   "source": [
    "### Question 5. What are the differences in the evaluation metrics? Which performs better on your in-sample data? Why?\n",
    "\n"
   ]
  },
  {
   "cell_type": "code",
   "execution_count": 141,
   "id": "fbe150c0",
   "metadata": {},
   "outputs": [
    {
     "data": {
      "text/html": [
       "<div>\n",
       "<style scoped>\n",
       "    .dataframe tbody tr th:only-of-type {\n",
       "        vertical-align: middle;\n",
       "    }\n",
       "\n",
       "    .dataframe tbody tr th {\n",
       "        vertical-align: top;\n",
       "    }\n",
       "\n",
       "    .dataframe thead th {\n",
       "        text-align: right;\n",
       "    }\n",
       "</style>\n",
       "<table border=\"1\" class=\"dataframe\">\n",
       "  <thead>\n",
       "    <tr style=\"text-align: right;\">\n",
       "      <th></th>\n",
       "      <th>max_depth</th>\n",
       "      <th>sample_leaf</th>\n",
       "      <th>in_sample_accuracy</th>\n",
       "      <th>out_of_sample_accuracy</th>\n",
       "    </tr>\n",
       "  </thead>\n",
       "  <tbody>\n",
       "    <tr>\n",
       "      <th>0</th>\n",
       "      <td>9</td>\n",
       "      <td>2</td>\n",
       "      <td>0.9</td>\n",
       "      <td>0.81</td>\n",
       "    </tr>\n",
       "  </tbody>\n",
       "</table>\n",
       "</div>"
      ],
      "text/plain": [
       "   max_depth  sample_leaf  in_sample_accuracy  out_of_sample_accuracy\n",
       "0          9            2                 0.9                    0.81"
      ]
     },
     "execution_count": 141,
     "metadata": {},
     "output_type": "execute_result"
    }
   ],
   "source": [
    "df.sort_values(by='in_sample_accuracy', ascending=False).head(1)"
   ]
  },
  {
   "cell_type": "code",
   "execution_count": 142,
   "id": "74708fef",
   "metadata": {},
   "outputs": [
    {
     "data": {
      "text/html": [
       "<div>\n",
       "<style scoped>\n",
       "    .dataframe tbody tr th:only-of-type {\n",
       "        vertical-align: middle;\n",
       "    }\n",
       "\n",
       "    .dataframe tbody tr th {\n",
       "        vertical-align: top;\n",
       "    }\n",
       "\n",
       "    .dataframe thead th {\n",
       "        text-align: right;\n",
       "    }\n",
       "</style>\n",
       "<table border=\"1\" class=\"dataframe\">\n",
       "  <thead>\n",
       "    <tr style=\"text-align: right;\">\n",
       "      <th></th>\n",
       "      <th>max_depth</th>\n",
       "      <th>sample_leaf</th>\n",
       "      <th>in_sample_accuracy</th>\n",
       "      <th>out_of_sample_accuracy</th>\n",
       "    </tr>\n",
       "  </thead>\n",
       "  <tbody>\n",
       "    <tr>\n",
       "      <th>0</th>\n",
       "      <td>9</td>\n",
       "      <td>2</td>\n",
       "      <td>0.9</td>\n",
       "      <td>0.81</td>\n",
       "    </tr>\n",
       "  </tbody>\n",
       "</table>\n",
       "</div>"
      ],
      "text/plain": [
       "   max_depth  sample_leaf  in_sample_accuracy  out_of_sample_accuracy\n",
       "0          9            2                 0.9                    0.81"
      ]
     },
     "execution_count": 142,
     "metadata": {},
     "output_type": "execute_result"
    }
   ],
   "source": [
    "df.sort_values(by='out_of_sample_accuracy', ascending=False).head(1)"
   ]
  },
  {
   "cell_type": "markdown",
   "id": "f5bd18fc",
   "metadata": {},
   "source": [
    "With max_depth = 9 and sample_leaf =2, performs the best in both in sample dataset and our of sample dataset, with an accuracy of 0.9 and 0.81,its increase a lot from only performs 1 descion tree model. In RF, ecision trees are created so that rather than selecting optimal split points, suboptimal splits are made by introducing randomness. The models created for each sample of the data are therefore more different than they otherwise would be, but still accurate in their unique and different ways. "
   ]
  },
  {
   "cell_type": "markdown",
   "id": "466a54cb",
   "metadata": {},
   "source": [
    "**Run the model on test dataset use max_depth = 9 and sample_leaf =2**"
   ]
  },
  {
   "cell_type": "code",
   "execution_count": 145,
   "id": "397cdcc5",
   "metadata": {},
   "outputs": [
    {
     "data": {
      "text/plain": [
       "0.8955823293172691"
      ]
     },
     "execution_count": 145,
     "metadata": {},
     "output_type": "execute_result"
    }
   ],
   "source": [
    "rf = RandomForestClassifier(max_depth = 9,\n",
    "                            min_samples_leaf = 2,\n",
    "                            random_state=1349)\n",
    "rf.fit(X_train, y_train)\n",
    "rf.score(X_train, y_train)"
   ]
  },
  {
   "cell_type": "code",
   "execution_count": 146,
   "id": "c9a63560",
   "metadata": {},
   "outputs": [
    {
     "data": {
      "text/plain": [
       "0.7947761194029851"
      ]
     },
     "execution_count": 146,
     "metadata": {},
     "output_type": "execute_result"
    }
   ],
   "source": [
    "rf.score(X_test, y_test)"
   ]
  },
  {
   "cell_type": "markdown",
   "id": "066f72ae",
   "metadata": {},
   "source": [
    "**The test dataset recived a score of 0.79 accurancy**"
   ]
  },
  {
   "cell_type": "code",
   "execution_count": null,
   "id": "4082d420",
   "metadata": {},
   "outputs": [],
   "source": []
  }
 ],
 "metadata": {
  "kernelspec": {
   "display_name": "Python 3 (ipykernel)",
   "language": "python",
   "name": "python3"
  },
  "language_info": {
   "codemirror_mode": {
    "name": "ipython",
    "version": 3
   },
   "file_extension": ".py",
   "mimetype": "text/x-python",
   "name": "python",
   "nbconvert_exporter": "python",
   "pygments_lexer": "ipython3",
   "version": "3.9.7"
  }
 },
 "nbformat": 4,
 "nbformat_minor": 5
}
